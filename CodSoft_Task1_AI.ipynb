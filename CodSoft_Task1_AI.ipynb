{
 "cells": [
  {
   "cell_type": "code",
   "execution_count": 11,
   "id": "35444cea-5578-431a-a16f-0227412951a0",
   "metadata": {},
   "outputs": [
    {
     "name": "stdout",
     "output_type": "stream",
     "text": [
      "USER : "
     ]
    },
    {
     "name": "stdin",
     "output_type": "stream",
     "text": [
      " hi\n"
     ]
    },
    {
     "name": "stdout",
     "output_type": "stream",
     "text": [
      "BOT : \thow can i help you\n",
      "USER : "
     ]
    },
    {
     "name": "stdin",
     "output_type": "stream",
     "text": [
      " time now\n"
     ]
    },
    {
     "name": "stdout",
     "output_type": "stream",
     "text": [
      "BOT : Sir the time is :  21:28:35\n",
      "USER : "
     ]
    },
    {
     "name": "stdin",
     "output_type": "stream",
     "text": [
      " bye\n"
     ]
    },
    {
     "name": "stdout",
     "output_type": "stream",
     "text": [
      "BOT : Ok, Sir see you soon\n"
     ]
    }
   ],
   "source": [
    "import datetime\n",
    "\n",
    "now = datetime.datetime.now()\n",
    "Time = now.strftime(\"%H:%M:%S\")\n",
    "\n",
    "def wishme():\n",
    "    hour = int(datetime.datetime.now().hour)\n",
    "    if hour>0 and hour<12:\n",
    "        return(\"Good Morning Sir!\")\n",
    "\n",
    "    elif hour>=12 and hour<15:\n",
    "        return(\"Good afternoon Sir!\")\n",
    "    \n",
    "    else:\n",
    "        return(\"Good Evening!\")\n",
    "while True:\n",
    "    print(\"USER : \",end=\"\")\n",
    "    query = input()\n",
    "    print(\"BOT : \",end=\"\")\n",
    "    if \"hello\" in query or \"hi\" in query:\n",
    "        print(\"\\thow can i help you\")\n",
    "    elif \"your name\" in query or \"who are you\" in query:\n",
    "        print(\"Hi, I am Sova, a ChatBot\")\n",
    "        print(\"\\tHow can I help you\")\n",
    "    elif \"who is messi\" in query:\n",
    "        print(\"he is the goat\")\n",
    "    elif \"bye\" in query:\n",
    "        print(\"Ok, Sir see you soon\")\n",
    "        break\n",
    "    elif \"time now\" in query:\n",
    "        print(\"Sir the time is : \",Time)\n",
    "    else:\n",
    "        print(\"I couldn't understand\")"
   ]
  }
 ],
 "metadata": {
  "kernelspec": {
   "display_name": "Python 3 (ipykernel)",
   "language": "python",
   "name": "python3"
  },
  "language_info": {
   "codemirror_mode": {
    "name": "ipython",
    "version": 3
   },
   "file_extension": ".py",
   "mimetype": "text/x-python",
   "name": "python",
   "nbconvert_exporter": "python",
   "pygments_lexer": "ipython3",
   "version": "3.12.4"
  }
 },
 "nbformat": 4,
 "nbformat_minor": 5
}
